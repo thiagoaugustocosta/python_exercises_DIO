{
  "nbformat": 4,
  "nbformat_minor": 0,
  "metadata": {
    "colab": {
      "provenance": []
    },
    "kernelspec": {
      "name": "python3",
      "display_name": "Python 3"
    },
    "language_info": {
      "name": "python"
    }
  },
  "cells": [
    {
      "cell_type": "code",
      "source": [
        "import pandas as pd\n",
        "\n",
        "# Abra o arquivo Excel\n",
        "arquivo_excel = \"anuario-2023.xlsx\"\n",
        "\n",
        "# Carregue o arquivo Excel\n",
        "xls = pd.ExcelFile(arquivo_excel)"
      ],
      "metadata": {
        "id": "p5XivEOIHWYh"
      },
      "execution_count": 39,
      "outputs": []
    },
    {
      "cell_type": "code",
      "execution_count": 40,
      "metadata": {
        "id": "AMVvOGtIG_FZ"
      },
      "outputs": [],
      "source": [
        "# Inicializar uma lista para armazenar as informações encontradas\n",
        "informacoes_bahia = []"
      ]
    },
    {
      "cell_type": "code",
      "source": [
        "# Iterar sobre as abas do arquivo Excel\n",
        "for nome_aba in xls.sheet_names:\n",
        "\n",
        "    # Ler a aba atual em um DataFrame\n",
        "    data = xls.parse(nome_aba)"
      ],
      "metadata": {
        "id": "G00GJ7OeJAno"
      },
      "execution_count": 41,
      "outputs": []
    },
    {
      "cell_type": "code",
      "source": [
        "# Inicializar um dicionário para armazenar as informações da aba\n",
        "info_aba = {\"Aba\": nome_aba}"
      ],
      "metadata": {
        "id": "dsbe4wHwI33P"
      },
      "execution_count": 42,
      "outputs": []
    },
    {
      "cell_type": "code",
      "source": [
        "# Iterar pelas colunas do DataFrame\n",
        "for coluna in data.columns:\n",
        "  for indice, valor in enumerate(data[coluna]):\n",
        "    if isinstance(valor, str) and \"Bahia\" in valor:\n",
        "      # Adicionar a informação completa à lista de informações\n",
        "      info_aba[coluna] = f\"{valor} - Linha {indice + 2}\"  # +2 porque os índices do DataFrame começam em 0 e a primeira linha é o cabeçalho"
      ],
      "metadata": {
        "id": "KmpXkSW03E2p"
      },
      "execution_count": 44,
      "outputs": []
    },
    {
      "cell_type": "code",
      "source": [
        "# Adicionar as informações da aba à lista geral\n",
        "informacoes_bahia.append(info_aba)"
      ],
      "metadata": {
        "id": "jktcZgbvMvei"
      },
      "execution_count": 45,
      "outputs": []
    },
    {
      "cell_type": "code",
      "source": [
        "# Imprimir as informações encontradas\n",
        "for info_aba in informacoes_bahia:\n",
        "    print(f\"Na aba '{info_aba['Aba']}':\")\n",
        "    for chave, valor in info_aba.items():\n",
        "        if chave != 'Aba':\n",
        "            print(f\"{chave}: {valor}\")"
      ],
      "metadata": {
        "colab": {
          "base_uri": "https://localhost:8080/"
        },
        "id": "NuyXLvK-M3lA",
        "outputId": "657baf31-a247-4655-9b5d-402b3d9589b5"
      },
      "execution_count": 46,
      "outputs": [
        {
          "output_type": "stream",
          "name": "stdout",
          "text": [
            "Na aba 'T111':\n",
            "TABELA 111: Bahia - Linha 15\n"
          ]
        }
      ]
    }
  ]
}